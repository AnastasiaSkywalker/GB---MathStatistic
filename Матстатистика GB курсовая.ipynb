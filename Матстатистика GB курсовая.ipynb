{
 "cells": [
  {
   "cell_type": "markdown",
   "metadata": {},
   "source": [
    "# Курсовой проект: сравнение половозростного состава Багратионовской области "
   ]
  },
  {
   "cell_type": "code",
   "execution_count": 154,
   "metadata": {},
   "outputs": [],
   "source": [
    "import pandas as pd\n",
    "import numpy as np\n",
    "#https://python-school.ru/blog/pandas-excel/"
   ]
  },
  {
   "cell_type": "code",
   "execution_count": 155,
   "metadata": {
    "scrolled": true
   },
   "outputs": [
    {
     "data": {
      "text/html": [
       "<div>\n",
       "<style scoped>\n",
       "    .dataframe tbody tr th:only-of-type {\n",
       "        vertical-align: middle;\n",
       "    }\n",
       "\n",
       "    .dataframe tbody tr th {\n",
       "        vertical-align: top;\n",
       "    }\n",
       "\n",
       "    .dataframe thead th {\n",
       "        text-align: right;\n",
       "    }\n",
       "</style>\n",
       "<table border=\"1\" class=\"dataframe\">\n",
       "  <thead>\n",
       "    <tr style=\"text-align: right;\">\n",
       "      <th></th>\n",
       "      <th>Возраст (лет)</th>\n",
       "      <th>Unnamed: 2</th>\n",
       "      <th>Unnamed: 3</th>\n",
       "    </tr>\n",
       "  </thead>\n",
       "  <tbody>\n",
       "    <tr>\n",
       "      <th>0</th>\n",
       "      <td>NaN</td>\n",
       "      <td>мужчины</td>\n",
       "      <td>женщины</td>\n",
       "    </tr>\n",
       "    <tr>\n",
       "      <th>1</th>\n",
       "      <td>А</td>\n",
       "      <td>2</td>\n",
       "      <td>3</td>\n",
       "    </tr>\n",
       "    <tr>\n",
       "      <th>2</th>\n",
       "      <td>Все население</td>\n",
       "      <td>16152</td>\n",
       "      <td>16661</td>\n",
       "    </tr>\n",
       "    <tr>\n",
       "      <th>3</th>\n",
       "      <td>0</td>\n",
       "      <td>141</td>\n",
       "      <td>137</td>\n",
       "    </tr>\n",
       "    <tr>\n",
       "      <th>4</th>\n",
       "      <td>1</td>\n",
       "      <td>167</td>\n",
       "      <td>151</td>\n",
       "    </tr>\n",
       "  </tbody>\n",
       "</table>\n",
       "</div>"
      ],
      "text/plain": [
       "   Возраст (лет) Unnamed: 2 Unnamed: 3\n",
       "0            NaN    мужчины    женщины\n",
       "1              А          2          3\n",
       "2  Все население      16152      16661\n",
       "3              0        141        137\n",
       "4              1        167        151"
      ]
     },
     "execution_count": 155,
     "metadata": {},
     "output_type": "execute_result"
    }
   ],
   "source": [
    "population = pd.read_excel('./Багратионовск.xlsx', usecols=['Возраст (лет)', 'Unnamed: 2', 'Unnamed: 3'])\n",
    "population.head()"
   ]
  },
  {
   "cell_type": "code",
   "execution_count": 156,
   "metadata": {
    "scrolled": false
   },
   "outputs": [],
   "source": [
    "pd.set_option('display.max_rows', None)\n",
    "#population\n",
    "#нужно знать индексы строк, которые надо убрать, с огромными БД не пркатит\n",
    "#0, 1, 2, 8, 14, 20, 26, 32, 38, 44, 50, 56, 62, 68, 74, 80, 86"
   ]
  },
  {
   "cell_type": "code",
   "execution_count": 157,
   "metadata": {},
   "outputs": [
    {
     "data": {
      "text/plain": [
       "Возраст (лет)    True\n",
       "Unnamed: 2       True\n",
       "Unnamed: 3       True\n",
       "dtype: bool"
      ]
     },
     "execution_count": 157,
     "metadata": {},
     "output_type": "execute_result"
    }
   ],
   "source": [
    "population.all()"
   ]
  },
  {
   "cell_type": "code",
   "execution_count": 158,
   "metadata": {},
   "outputs": [
    {
     "data": {
      "text/plain": [
       "84"
      ]
     },
     "execution_count": 158,
     "metadata": {},
     "output_type": "execute_result"
    }
   ],
   "source": [
    "m = 3\n",
    "#3 столбца мж, м, ж и n строк, означающих возраст\n",
    "n = len(population) - 4 #первые 3 строки - категории, 4я - общее число жителей\n",
    "n"
   ]
  },
  {
   "cell_type": "code",
   "execution_count": 159,
   "metadata": {},
   "outputs": [
    {
     "name": "stdout",
     "output_type": "stream",
     "text": [
      "['Возраст (лет)' 'Unnamed: 2' 'Unnamed: 3']\n"
     ]
    }
   ],
   "source": [
    "print(population.columns.ravel())"
   ]
  },
  {
   "cell_type": "code",
   "execution_count": 160,
   "metadata": {},
   "outputs": [],
   "source": [
    "#print(population['Возраст (лет)'].tolist())"
   ]
  },
  {
   "cell_type": "code",
   "execution_count": 161,
   "metadata": {},
   "outputs": [
    {
     "data": {
      "text/plain": [
       "array([nan, 'А', 'Все население', '0', '1', '2', '3', '4', '0-4', '5',\n",
       "       '6', '7', '8', '9', '5-9', '10', '11', '12', '13', '14', '10-14',\n",
       "       '15', '16', '17', '18', '19', '15-19', '20', '21', '22', '23',\n",
       "       '24', '20-24', '25', '26', '27', '28', '29', '25-29', '30', '31',\n",
       "       '32', '33', '34', '30-34', '35', '36', '37', '38', '39', '35-39',\n",
       "       '40', '41', '42', '43', '44', '40-44', '45', '46', '47', '48',\n",
       "       '49', '45-49', '50', '51', '52', '53', '54', '50-54', '55', '56',\n",
       "       '57', '58', '59', '55-59', '60', '61', '62', '63', '64', '60-64',\n",
       "       '65', '66', '67', '68', '69', '65-69', '70 лет и старше'],\n",
       "      dtype=object)"
      ]
     },
     "execution_count": 161,
     "metadata": {},
     "output_type": "execute_result"
    }
   ],
   "source": [
    "population_all = np.array(population['Возраст (лет)'])\n",
    "population_all"
   ]
  },
  {
   "cell_type": "code",
   "execution_count": 162,
   "metadata": {},
   "outputs": [],
   "source": [
    "population_all = np.delete(population_all, (0,1,2,8,14,20,26,32,38,44,50,56,62,68,74,80,86), axis = 0)\n",
    "#population_all"
   ]
  },
  {
   "cell_type": "code",
   "execution_count": 163,
   "metadata": {},
   "outputs": [
    {
     "data": {
      "text/plain": [
       "71"
      ]
     },
     "execution_count": 163,
     "metadata": {},
     "output_type": "execute_result"
    }
   ],
   "source": [
    "n = len(population_all)\n",
    "n"
   ]
  },
  {
   "cell_type": "code",
   "execution_count": 164,
   "metadata": {},
   "outputs": [],
   "source": [
    "Men = np.array(population['Unnamed: 2'])\n",
    "Women = np.array(population['Unnamed: 3'])"
   ]
  },
  {
   "cell_type": "code",
   "execution_count": 165,
   "metadata": {},
   "outputs": [],
   "source": [
    "Men = np.delete(Men, (0,1,2,8,14,20,26,32,38,44,50,56,62,68,74,80,86), axis = 0)\n",
    "Women = np.delete(Women, (0,1,2,8,14,20,26,32,38,44,50,56,62,68,74,80,86), axis = 0)"
   ]
  },
  {
   "cell_type": "code",
   "execution_count": 166,
   "metadata": {},
   "outputs": [
    {
     "data": {
      "text/plain": [
       "(array(['0', '1', '2', '3', '4', '5', '6', '7', '8', '9', '10', '11', '12',\n",
       "        '13', '14', '15', '16', '17', '18', '19', '20', '21', '22', '23',\n",
       "        '24', '25', '26', '27', '28', '29', '30', '31', '32', '33', '34',\n",
       "        '35', '36', '37', '38', '39', '40', '41', '42', '43', '44', '45',\n",
       "        '46', '47', '48', '49', '50', '51', '52', '53', '54', '55', '56',\n",
       "        '57', '58', '59', '60', '61', '62', '63', '64', '65', '66', '67',\n",
       "        '68', '69', '70 лет и старше'], dtype=object),\n",
       " array([141, 167, 193, 187, 251, 227, 239, 274, 270, 249, 228, 203, 207,\n",
       "        155, 170, 192, 167, 179, 181, 208, 179, 181, 220, 184, 186, 208,\n",
       "        171, 226, 187, 143, 190, 235, 279, 284, 336, 323, 307, 278, 295,\n",
       "        307, 339, 287, 270, 263, 271, 281, 278, 273, 229, 228, 202, 223,\n",
       "        193, 191, 194, 185, 182, 219, 184, 222, 223, 236, 212, 202, 207,\n",
       "        172, 170, 128, 159, 141, 781], dtype=object),\n",
       " array([137, 151, 166, 196, 222, 228, 265, 241, 243, 249, 221, 214, 207,\n",
       "        170, 194, 184, 202, 154, 121, 199, 172, 154, 138, 159, 156, 127,\n",
       "        159, 161, 161, 195, 225, 267, 239, 246, 273, 262, 244, 243, 205,\n",
       "        248, 244, 230, 240, 229, 250, 241, 234, 216, 230, 226, 192, 194,\n",
       "        205, 189, 211, 202, 208, 228, 222, 242, 302, 228, 223, 247, 256,\n",
       "        248, 247, 222, 247, 220, 1790], dtype=object))"
      ]
     },
     "execution_count": 166,
     "metadata": {},
     "output_type": "execute_result"
    }
   ],
   "source": [
    "population_all, Men, Women"
   ]
  },
  {
   "cell_type": "code",
   "execution_count": 167,
   "metadata": {},
   "outputs": [
    {
     "data": {
      "text/plain": [
       "142"
      ]
     },
     "execution_count": 167,
     "metadata": {},
     "output_type": "execute_result"
    }
   ],
   "source": [
    "n1 = len(Men)\n",
    "n2 = len(Women)\n",
    "n = n1 + n2\n",
    "n"
   ]
  },
  {
   "cell_type": "code",
   "execution_count": 168,
   "metadata": {},
   "outputs": [],
   "source": [
    "k = 2"
   ]
  },
  {
   "cell_type": "code",
   "execution_count": 169,
   "metadata": {},
   "outputs": [
    {
     "data": {
      "text/plain": [
       "(227.49295774647888, 234.66197183098592)"
      ]
     },
     "execution_count": 169,
     "metadata": {},
     "output_type": "execute_result"
    }
   ],
   "source": [
    "Men_mean = np.mean(Men)\n",
    "Women_mean = np.mean(Women)\n",
    "Men_mean, Women_mean"
   ]
  },
  {
   "cell_type": "markdown",
   "metadata": {},
   "source": [
    "Женщин в среднем больше"
   ]
  },
  {
   "cell_type": "code",
   "execution_count": 170,
   "metadata": {},
   "outputs": [
    {
     "data": {
      "text/plain": [
       "231.07746478873239"
      ]
     },
     "execution_count": 170,
     "metadata": {},
     "output_type": "execute_result"
    }
   ],
   "source": [
    "m_w = np.concatenate([Men, Women])\n",
    "m_w_mean = np.mean(m_w)\n",
    "m_w_mean"
   ]
  },
  {
   "cell_type": "code",
   "execution_count": 171,
   "metadata": {},
   "outputs": [
    {
     "data": {
      "text/plain": [
       "3040688.147887323"
      ]
     },
     "execution_count": 171,
     "metadata": {},
     "output_type": "execute_result"
    }
   ],
   "source": [
    "s2 = np.sum((m_w - m_w_mean)**2)\n",
    "s2"
   ]
  },
  {
   "cell_type": "code",
   "execution_count": 172,
   "metadata": {},
   "outputs": [
    {
     "data": {
      "text/plain": [
       "1824.5140845070414"
      ]
     },
     "execution_count": 172,
     "metadata": {},
     "output_type": "execute_result"
    }
   ],
   "source": [
    "s2_f = ((Men_mean - m_w_mean)**2) * n1 + ((Women_mean - m_w_mean)**2) * n2\n",
    "s2_f"
   ]
  },
  {
   "cell_type": "code",
   "execution_count": 173,
   "metadata": {},
   "outputs": [
    {
     "data": {
      "text/plain": [
       "3038863.6338028167"
      ]
     },
     "execution_count": 173,
     "metadata": {},
     "output_type": "execute_result"
    }
   ],
   "source": [
    "s2_ost = ((Men - Men_mean)**2).sum() + ((Women - Women_mean)**2).sum() \n",
    "s2_ost"
   ]
  },
  {
   "cell_type": "code",
   "execution_count": 174,
   "metadata": {},
   "outputs": [
    {
     "data": {
      "text/plain": [
       "3040688.147887324"
      ]
     },
     "execution_count": 174,
     "metadata": {},
     "output_type": "execute_result"
    }
   ],
   "source": [
    "s2_f + s2_ost"
   ]
  },
  {
   "cell_type": "markdown",
   "metadata": {},
   "source": [
    "примерно равны квадрату отклонений, птм продолжаем"
   ]
  },
  {
   "cell_type": "code",
   "execution_count": 175,
   "metadata": {},
   "outputs": [
    {
     "data": {
      "text/plain": [
       "21565.164169413638"
      ]
     },
     "execution_count": 175,
     "metadata": {},
     "output_type": "execute_result"
    }
   ],
   "source": [
    "sigma2_general = s2 / (n - 1)\n",
    "sigma2_general"
   ]
  },
  {
   "cell_type": "markdown",
   "metadata": {},
   "source": [
    "sigma2_f = s2_f / (k - 1)\n",
    "sigma2_f"
   ]
  },
  {
   "cell_type": "code",
   "execution_count": 176,
   "metadata": {},
   "outputs": [
    {
     "data": {
      "text/plain": [
       "21706.168812877262"
      ]
     },
     "execution_count": 176,
     "metadata": {},
     "output_type": "execute_result"
    }
   ],
   "source": [
    "sigma2_ost = s2_ost / (n - k)\n",
    "sigma2_ost"
   ]
  },
  {
   "cell_type": "code",
   "execution_count": 177,
   "metadata": {},
   "outputs": [
    {
     "data": {
      "text/plain": [
       "0.08405509513151127"
      ]
     },
     "execution_count": 177,
     "metadata": {},
     "output_type": "execute_result"
    }
   ],
   "source": [
    "F_h = sigma2_f / sigma2_ost\n",
    "F_h"
   ]
  },
  {
   "cell_type": "markdown",
   "metadata": {},
   "source": [
    "#k1 = 2 т.к. у нас 2 группы k2= n - m - 1 = 71 - 2 - 1 = 68\n",
    "https://univer-nn.ru/econometrica/Fisher-Student-table.pdf\n",
    "3.13 по таблице\n",
    "Наденное значение Фишера больше табличного. Данные статистически ненадежны."
   ]
  },
  {
   "cell_type": "code",
   "execution_count": 178,
   "metadata": {
    "scrolled": true
   },
   "outputs": [
    {
     "name": "stdout",
     "output_type": "stream",
     "text": [
      "эмпирическое корреляционное отношение 0.0006000332805502326\n"
     ]
    }
   ],
   "source": [
    "eta2 = s2_f / s2\n",
    "print(f'эмпирическое корреляционное отношение {eta2}')"
   ]
  },
  {
   "cell_type": "markdown",
   "metadata": {},
   "source": [
    "очень маленькое значение, поэтому различие роста является статистически незначимым"
   ]
  },
  {
   "cell_type": "code",
   "execution_count": 185,
   "metadata": {
    "scrolled": true
   },
   "outputs": [
    {
     "data": {
      "image/png": "[encoded data removed]",
      "text/plain": [
       "<Figure size 720x720 with 2 Axes>"
      ]
     },
     "metadata": {
      "needs_background": "light"
     },
     "output_type": "display_data"
    }
   ],
   "source": [
    "import matplotlib.pyplot as plt\n",
    "import matplotlib.cm as cm\n",
    "\n",
    "#plt.scatter(Men, Women, color=['blue', 'red'])\n",
    "#ax.scatter(x = population_all, y = [Men, Women])\n",
    "#plt.xlabel('Количество')\n",
    "#plt.ylabel('Возраст')\n",
    "\n",
    "fig, ax = plt.subplots(2, figsize=(10, 10))\n",
    "ax[0].scatter(x = population_all, y = Men)\n",
    "ax[0].set_xlabel(\"Возраст\")\n",
    "ax[0].set_ylabel(\"Количество\")\n",
    "\n",
    "ax[1].scatter(x = population_all, y = Women)\n",
    "ax[1].set_xlabel(\"Возраст\")\n",
    "ax[1].set_ylabel(\"Количество\")\n",
    "\n",
    "plt.show()"
   ]
  },
  {
   "cell_type": "markdown",
   "metadata": {},
   "source": [
    "Вывод: женщин старше 70 лет в два раза больше чем мужчин, и женщины по возрастам распределены равномерно, а мужчины после 35 в количестве уменьшаются"
   ]
  },
  {
   "cell_type": "code",
   "execution_count": null,
   "metadata": {},
   "outputs": [],
   "source": []
  }
 ],
 "metadata": {
  "kernelspec": {
   "display_name": "Python 3",
   "language": "python",
   "name": "python3"
  },
  "language_info": {
   "codemirror_mode": {
    "name": "ipython",
    "version": 3
   },
   "file_extension": ".py",
   "mimetype": "text/x-python",
   "name": "python",
   "nbconvert_exporter": "python",
   "pygments_lexer": "ipython3",
   "version": "3.8.5"
  }
 },
 "nbformat": 4,
 "nbformat_minor": 4
}

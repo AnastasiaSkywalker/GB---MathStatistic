{
 "cells": [
  {
   "cell_type": "markdown",
   "metadata": {},
   "source": [
    "# Урок 5. Проверка статистических гипотез. P-значения. Доверительные интервалы. A/B-тестирование\n",
    "https://matica.org.ua/primery/primery/primery-resheniia-tipovykh-zadach-po-matematicheskoi-statistike"
   ]
  },
  {
   "cell_type": "markdown",
   "metadata": {},
   "source": [
    "Задача 1\n",
    "\n",
    "Известно, что генеральная совокупность распределена нормально с известным средним квадратическим отклонением 16. Найти доверительный интервал для оценки математического ожидания mu с надёжностью 0.95, если выборочное среднее равно 80, а объём равен 256.\n",
    "\n",
    "???коэффициент надежности :   1 - 2alpha = 0.95   alpha = 0.025 ?? - нашла в интернете и непонтно к чему это выражение, автор его пото не использует в формуле\n",
    "по таблице значений функции Лапласа http://www.mathprofi.ru/files/u/laplas.png \n"
   ]
  },
  {
   "cell_type": "markdown",
   "metadata": {},
   "source": [
    "import math\n",
    "\n",
    "xb = 80\n",
    "volume = 256\n",
    "nadegnost = 0.95\n",
    "sygma = 16\n",
    "t = nadegnost / 2\n",
    "80 - t * 16/math.sqrt(256) < a < 80 + t * 16/math.sqrt(256)"
   ]
  },
  {
   "cell_type": "code",
   "execution_count": 3,
   "metadata": {},
   "outputs": [
    {
     "data": {
      "text/plain": [
       "79.525"
      ]
     },
     "execution_count": 3,
     "metadata": {},
     "output_type": "execute_result"
    }
   ],
   "source": [
    "import math\n",
    "\n",
    "xb = 80\n",
    "volume = 256\n",
    "nadegnost = 0.95\n",
    "sygma = 16\n",
    "t = nadegnost / 2\n",
    "\n",
    "a1 = 80 - t * 16/math.sqrt(256)\n",
    "a1"
   ]
  },
  {
   "cell_type": "code",
   "execution_count": 4,
   "metadata": {},
   "outputs": [
    {
     "data": {
      "text/plain": [
       "80.475"
      ]
     },
     "execution_count": 4,
     "metadata": {},
     "output_type": "execute_result"
    }
   ],
   "source": [
    "a2 = 80 + t * 16/math.sqrt(256)\n",
    "a2"
   ]
  },
  {
   "cell_type": "markdown",
   "metadata": {},
   "source": [
    "Доверительный интервал 79.525 < a < 80.475"
   ]
  },
  {
   "cell_type": "markdown",
   "metadata": {},
   "source": [
    "Задача 2\n",
    "\n",
    "Продавец утверждает, что средний вес пачки печенья составляет 200 г. Из партии извлечена выборка из 10 пачек. Вес каждой пачки составляет:\n",
    "\n",
    "202, 203, 199, 197, 195, 201, 200, 204, 194, 190\n",
    "\n",
    "Известно, что их веса распределены нормально.\n",
    "1. Верно ли утверждение продавца, если учитывать, что уровень значимости alpha равен 1% == 0.01?\n",
    "2. Найдите P-значение для данного теста.\n",
    "\n",
    "H0 = 200 и H1 != 200"
   ]
  },
  {
   "cell_type": "code",
   "execution_count": 33,
   "metadata": {},
   "outputs": [
    {
     "data": {
      "text/plain": [
       "198.5"
      ]
     },
     "execution_count": 33,
     "metadata": {},
     "output_type": "execute_result"
    }
   ],
   "source": [
    "import numpy as np\n",
    "import statistics \n",
    "\n",
    "#list = np.array([202, 203, 199, 197, 195, 201, 200, 204, 194, 190])\n",
    "list = (202, 203, 199, 197, 195, 201, 200, 204, 194, 190)\n",
    "x_aver = sum(list) / len(list)\n",
    "x_aver\n",
    "#list.mean()"
   ]
  },
  {
   "cell_type": "markdown",
   "metadata": {},
   "source": [
    "Выборочное среднеквадратичное отклонение:"
   ]
  },
  {
   "cell_type": "code",
   "execution_count": 34,
   "metadata": {},
   "outputs": [
    {
     "data": {
      "text/plain": [
       "17.85"
      ]
     },
     "execution_count": 34,
     "metadata": {},
     "output_type": "execute_result"
    }
   ],
   "source": [
    "alpha = 0.01\n",
    "s = np.var(list)\n",
    "s"
   ]
  },
  {
   "cell_type": "code",
   "execution_count": 35,
   "metadata": {},
   "outputs": [
    {
     "data": {
      "text/plain": [
       "17.85"
      ]
     },
     "execution_count": 35,
     "metadata": {},
     "output_type": "execute_result"
    }
   ],
   "source": [
    "var_res = sum((i - x_aver) ** 2 for i in list) / len(list)\n",
    "var_res"
   ]
  },
  {
   "cell_type": "markdown",
   "metadata": {},
   "source": [
    "t-распределение. При заданной вероятности рассчитаем предельное отклонение от средней арифметической - границы доверительного интервала:"
   ]
  },
  {
   "cell_type": "code",
   "execution_count": 36,
   "metadata": {},
   "outputs": [
    {
     "data": {
      "text/plain": [
       "198.49599356625725"
      ]
     },
     "execution_count": 36,
     "metadata": {},
     "output_type": "execute_result"
    }
   ],
   "source": [
    "t1 = x_aver - s / math.sqrt(sum(list)) * alpha\n",
    "t1"
   ]
  },
  {
   "cell_type": "code",
   "execution_count": 37,
   "metadata": {},
   "outputs": [
    {
     "data": {
      "text/plain": [
       "198.50400643374275"
      ]
     },
     "execution_count": 37,
     "metadata": {},
     "output_type": "execute_result"
    }
   ],
   "source": [
    "t2 = x_aver + s / math.sqrt(sum(list)) * alpha\n",
    "t2"
   ]
  },
  {
   "cell_type": "markdown",
   "metadata": {},
   "source": [
    "Z-статистика"
   ]
  },
  {
   "cell_type": "code",
   "execution_count": 44,
   "metadata": {},
   "outputs": [
    {
     "data": {
      "text/plain": [
       "array([ 0.82841687,  1.0651074 ,  0.11834527, -0.3550358 , -0.82841687,\n",
       "        0.59172634,  0.3550358 ,  1.30179794, -1.0651074 , -2.01186954])"
      ]
     },
     "execution_count": 44,
     "metadata": {},
     "output_type": "execute_result"
    }
   ],
   "source": [
    "from scipy import stats\n",
    "\n",
    "scipy.stats.zscore(list, axis=0, ddof=0)"
   ]
  },
  {
   "cell_type": "markdown",
   "metadata": {},
   "source": [
    "https://habr.com/ru/post/557424/   \n",
    "В чем бы не измерялись сравниваемые величины, после вычисления Z-значений они будут измеряться в сигмах. Чем меньше по модулю Z-значение, тем ближе оно к вершине распределения, а знак укажет по какую сторону от вершины это значение находится. Z-значение величины оценивает вероятность (частоту) ее появления"
   ]
  },
  {
   "cell_type": "markdown",
   "metadata": {},
   "source": [
    "p-value показывает вероятность случайного выхода за границы интервала, задаваемого значением Z-статистики   x: The t-score df: The degrees of freedom     https://habr.com/ru/company/skillfactory/blog/510688/"
   ]
  },
  {
   "cell_type": "code",
   "execution_count": null,
   "metadata": {},
   "outputs": [],
   "source": [
    "scipy.stats.t.sf(abs(x), df)"
   ]
  },
  {
   "cell_type": "code",
   "execution_count": 52,
   "metadata": {},
   "outputs": [
    {
     "name": "stdout",
     "output_type": "stream",
     "text": [
      "Statistics=1.027, p-value=0.598\n",
      "Принять гипотезу о нормальности\n"
     ]
    }
   ],
   "source": [
    "stat, p = scipy.stats.normaltest(list) # Критерий согласия Пирсона\n",
    "print('Statistics=%.3f, p-value=%.3f' % (stat, p))\n",
    "alpha = 0.01\n",
    "if p > alpha:\n",
    "    print('Принять гипотезу о нормальности')\n",
    "else:\n",
    "    print('Отклонить гипотезу о нормальности')"
   ]
  },
  {
   "cell_type": "markdown",
   "metadata": {},
   "source": [
    "Задача 3\n",
    "\n",
    "Утверждается, что шарики для подшипников, изготовленные автоматическим станком, имеют средний диаметр 17 мм. Используя уровень значимости 0.025 и правостороннюю критическую область, проверить данную гипотезу при условии, что в выборке из 100 шариков средний диаметр оказался равным 17.5 мм, а дисперсия известна и равна 4 мм.\n",
    "\n",
    "H0 = 10\n",
    "H1 > 10"
   ]
  },
  {
   "cell_type": "code",
   "execution_count": 56,
   "metadata": {},
   "outputs": [],
   "source": [
    "x_aver0 = 17\n",
    "x_aver1 = 17.5\n",
    "D = 4\n",
    "alpha = 0.025\n",
    "n = 100"
   ]
  },
  {
   "cell_type": "code",
   "execution_count": 63,
   "metadata": {},
   "outputs": [
    {
     "data": {
      "text/plain": [
       "1.25"
      ]
     },
     "execution_count": 63,
     "metadata": {},
     "output_type": "execute_result"
    }
   ],
   "source": [
    "#фактическое наблюдение\n",
    "U = ((x_aver1 - x_aver0) / D) * math.sqrt(n)\n",
    "U"
   ]
  },
  {
   "cell_type": "code",
   "execution_count": 64,
   "metadata": {},
   "outputs": [
    {
     "data": {
      "text/plain": [
       "0.475"
      ]
     },
     "execution_count": 64,
     "metadata": {},
     "output_type": "execute_result"
    }
   ],
   "source": [
    "Laplas_functio = (1 - 2 * alpha) / 2\n",
    "Laplas_functio"
   ]
  },
  {
   "cell_type": "markdown",
   "metadata": {},
   "source": [
    "В таблице лапласа https://100task.ru/sample/119.aspx найдем критическую точку для односторонней критической \n",
    "области 0.475 = 1.96"
   ]
  },
  {
   "cell_type": "markdown",
   "metadata": {},
   "source": [
    "1.25 < 1.96 поэтому нулевую гипотезу можно принять"
   ]
  },
  {
   "cell_type": "markdown",
   "metadata": {},
   "source": [
    "Задача 4 (Дополнительно)\n",
    "\n",
    "Дана выборка диаметров подшипников из примера 1 с занятия 5:\n",
    "\n",
    "samples = [0.6603, 0.9466, 0.5968, 1.3792, 1.5481, 0.7515, 1.0681, 1.1134,\n",
    "1.2088, 1.701 , 1.0282, 1.3579, 1.0191, 1.1784, 1.1168, 1.1372,\n",
    "0.7273, 1.3958, 0.8665, 1.5112, 1.161 , 1.0232, 1.0865, 1.02 ]\n",
    "\n",
    "Предполагая, что диаметры подшипников распределены нормально, проверьте гипотезу о том, что дисперсия случайной величины равна 0.0625 при уровне значимости alpha = 0.05. Что для этого нужно знать:\n",
    "1. Альтернативная гипотеза двухсторонняя.\n",
    "2. Статистика для теста: H = (n - 1) * sample_variance / variance, где n - число элементов в выборке, sample_variance - несмещённая оценка дисперсии, variance - утверждаемая нулевой гипотезой дисперсия.\n",
    "3. Эта статистика в предположении верности нулевой гипотезы имеет распределение хи-квадрат с параметром df = n - 1. Её квантили можно найти с помощью функции scipy.stats.chi2.ppf."
   ]
  },
  {
   "cell_type": "code",
   "execution_count": null,
   "metadata": {},
   "outputs": [],
   "source": []
  },
  {
   "cell_type": "code",
   "execution_count": null,
   "metadata": {},
   "outputs": [],
   "source": []
  }
 ],
 "metadata": {
  "celltoolbar": "Необработанный формат ячейки",
  "kernelspec": {
   "display_name": "Python 3",
   "language": "python",
   "name": "python3"
  },
  "language_info": {
   "codemirror_mode": {
    "name": "ipython",
    "version": 3
   },
   "file_extension": ".py",
   "mimetype": "text/x-python",
   "name": "python",
   "nbconvert_exporter": "python",
   "pygments_lexer": "ipython3",
   "version": "3.8.5"
  },
  "widgets": {
   "application/vnd.jupyter.widget-state+json": {
    "state": {},
    "version_major": 2,
    "version_minor": 0
   }
  }
 },
 "nbformat": 4,
 "nbformat_minor": 4
}

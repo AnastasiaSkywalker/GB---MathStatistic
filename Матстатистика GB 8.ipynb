{
 "cells": [
  {
   "cell_type": "markdown",
   "metadata": {},
   "source": [
    "# Урок 8. Дисперсионный анализ. Логистическая регрессия"
   ]
  },
  {
   "cell_type": "markdown",
   "metadata": {},
   "source": [
    "Задача 1\n",
    "\n",
    "Провести дисперсионный анализ для определения того, есть ли различия среднего роста среди взрослых футболистов, хоккеистов и штангистов. Даны значения роста в трех группах случайно выбранных спортсменов:\n",
    "\n",
    "football_players = [173, 175, 180, 178, 177, 185, 183, 182]\n",
    "hockey_players = [177, 179, 180, 188, 177, 172, 171, 184, 180]\n",
    "lifters = [172, 173, 169, 177, 166, 180, 178, 177, 172, 166, 170]"
   ]
  },
  {
   "cell_type": "code",
   "execution_count": 23,
   "metadata": {},
   "outputs": [],
   "source": [
    "import numpy as np\n",
    "\n",
    "football_players = np.array([173, 175, 180, 178, 177, 185, 183, 182])\n",
    "hockey_players = np.array([177, 179, 180, 188, 177, 172, 171, 184, 180])\n",
    "lifters = np.array([172, 173, 169, 177, 166, 180, 178, 177, 172, 166, 170])"
   ]
  },
  {
   "cell_type": "code",
   "execution_count": 24,
   "metadata": {},
   "outputs": [
    {
     "name": "stdout",
     "output_type": "stream",
     "text": [
      "28\n"
     ]
    }
   ],
   "source": [
    "n1 = len(football_players)\n",
    "n2 = len(hockey_players)\n",
    "n3 = len(lifters)\n",
    "n = n1 + n2 + n3\n",
    "print(n)"
   ]
  },
  {
   "cell_type": "code",
   "execution_count": 25,
   "metadata": {},
   "outputs": [],
   "source": [
    "k = 3"
   ]
  },
  {
   "cell_type": "code",
   "execution_count": 28,
   "metadata": {},
   "outputs": [],
   "source": [
    "fp_mean = np.mean(football_players)\n",
    "hp_mean = np.mean(hockey_players)\n",
    "l_mean = np.mean(lifters)"
   ]
  },
  {
   "cell_type": "code",
   "execution_count": 29,
   "metadata": {},
   "outputs": [
    {
     "data": {
      "text/plain": [
       "(179.125, 178.66666666666666, 172.72727272727272)"
      ]
     },
     "execution_count": 29,
     "metadata": {},
     "output_type": "execute_result"
    }
   ],
   "source": [
    "fp_mean, hp_mean, l_mean"
   ]
  },
  {
   "cell_type": "markdown",
   "metadata": {},
   "source": [
    "цифры мало отличаются, статичтически значимая разница  отсуствует"
   ]
  },
  {
   "cell_type": "code",
   "execution_count": 30,
   "metadata": {},
   "outputs": [
    {
     "name": "stdout",
     "output_type": "stream",
     "text": [
      "средний рост всех спортсменов составляет 176.46428571428572 см\n"
     ]
    }
   ],
   "source": [
    "height_all = np.concatenate([football_players, hockey_players, lifters])\n",
    "height_all_mean = np.mean(height_all)\n",
    "print(f'средний рост всех спортсменов составляет {height_all_mean} см')"
   ]
  },
  {
   "cell_type": "code",
   "execution_count": 31,
   "metadata": {},
   "outputs": [
    {
     "name": "stdout",
     "output_type": "stream",
     "text": [
      "сумма квадратов отклонений наблюдений от общего среднего 830.9642857142854\n"
     ]
    }
   ],
   "source": [
    "s2 = np.sum((height_all - height_all_mean)**2)\n",
    "print(f'сумма квадратов отклонений наблюдений от общего среднего {s2}')"
   ]
  },
  {
   "cell_type": "code",
   "execution_count": 32,
   "metadata": {},
   "outputs": [
    {
     "name": "stdout",
     "output_type": "stream",
     "text": [
      "сумма квадратов отклонений средних групповых значений от общего среднего 253.9074675324678\n"
     ]
    }
   ],
   "source": [
    "s2_f = ((fp_mean - height_all_mean)**2) * n1 + ((hp_mean - height_all_mean)**2) * n2 + ((l_mean - height_all_mean)**2) * n3\n",
    "print(f'сумма квадратов отклонений средних групповых значений от общего среднего {s2_f}')"
   ]
  },
  {
   "cell_type": "code",
   "execution_count": 33,
   "metadata": {},
   "outputs": [
    {
     "name": "stdout",
     "output_type": "stream",
     "text": [
      "остаточная сумма квадратов отклонений средних групповых значений от общего среднего 577.0568181818182\n"
     ]
    }
   ],
   "source": [
    "s2_ost = ((football_players - fp_mean)**2).sum() + ((hockey_players - hp_mean)**2).sum() + ((lifters - l_mean)**2).sum() \n",
    "print(f'остаточная сумма квадратов отклонений средних групповых значений от общего среднего {s2_ost}')"
   ]
  },
  {
   "cell_type": "code",
   "execution_count": 35,
   "metadata": {},
   "outputs": [
    {
     "name": "stdout",
     "output_type": "stream",
     "text": [
      "False\n"
     ]
    }
   ],
   "source": [
    "if s2 == s2_f + s2_ost:\n",
    "    print(True)\n",
    "else:\n",
    "    print(False)"
   ]
  },
  {
   "cell_type": "markdown",
   "metadata": {},
   "source": [
    "отичаются цифры после запятой, но общая сумма сходится. float подкачал"
   ]
  },
  {
   "cell_type": "code",
   "execution_count": 36,
   "metadata": {},
   "outputs": [
    {
     "data": {
      "text/plain": [
       "30.776455026455015"
      ]
     },
     "execution_count": 36,
     "metadata": {},
     "output_type": "execute_result"
    }
   ],
   "source": [
    "sigma2_general = s2 / (n - 1)\n",
    "sigma2_general"
   ]
  },
  {
   "cell_type": "code",
   "execution_count": 37,
   "metadata": {},
   "outputs": [
    {
     "data": {
      "text/plain": [
       "126.9537337662339"
      ]
     },
     "execution_count": 37,
     "metadata": {},
     "output_type": "execute_result"
    }
   ],
   "source": [
    "sigma2_f = s2_f / (k - 1)\n",
    "sigma2_f"
   ]
  },
  {
   "cell_type": "code",
   "execution_count": 41,
   "metadata": {},
   "outputs": [
    {
     "data": {
      "text/plain": [
       "23.08227272727273"
      ]
     },
     "execution_count": 41,
     "metadata": {},
     "output_type": "execute_result"
    }
   ],
   "source": [
    "sigma2_ost = s2_ost / (n - k)\n",
    "sigma2_ost"
   ]
  },
  {
   "cell_type": "code",
   "execution_count": 42,
   "metadata": {},
   "outputs": [
    {
     "data": {
      "text/plain": [
       "5.500053450812598"
      ]
     },
     "execution_count": 42,
     "metadata": {},
     "output_type": "execute_result"
    }
   ],
   "source": [
    "F_h = sigma2_f / sigma2_ost\n",
    "F_h"
   ]
  },
  {
   "cell_type": "markdown",
   "metadata": {},
   "source": [
    "https://100task.ru/sample/122.aspx  alpha=0.05 \n",
    "    https://habr.com/ru/company/stepic/blog/311354/\n",
    "степени свободы: k1= 3  т.к. у нас 3 группы  k2= n - m - 1 = 28 - 3 - 1 = 24         критерий Фишера по таблице = 2,95 "
   ]
  },
  {
   "cell_type": "markdown",
   "metadata": {},
   "source": [
    "Наденное значение Фишера больше табличного. Данные статистически надежны. (? я не разобралась, для чего нужен критерий)"
   ]
  },
  {
   "cell_type": "code",
   "execution_count": 46,
   "metadata": {},
   "outputs": [
    {
     "name": "stdout",
     "output_type": "stream",
     "text": [
      "эмпирическое корреляционное отношение 0.30555761769498\n"
     ]
    }
   ],
   "source": [
    "eta2 = s2_f / s2\n",
    "print(f'эмпирическое корреляционное отношение {eta2}')"
   ]
  },
  {
   "cell_type": "markdown",
   "metadata": {},
   "source": [
    "очень маленькое значение, поэтому различие роста является статистически незначимым"
   ]
  },
  {
   "cell_type": "code",
   "execution_count": null,
   "metadata": {},
   "outputs": [],
   "source": []
  }
 ],
 "metadata": {
  "kernelspec": {
   "display_name": "Python 3",
   "language": "python",
   "name": "python3"
  },
  "language_info": {
   "codemirror_mode": {
    "name": "ipython",
    "version": 3
   },
   "file_extension": ".py",
   "mimetype": "text/x-python",
   "name": "python",
   "nbconvert_exporter": "python",
   "pygments_lexer": "ipython3",
   "version": "3.8.5"
  }
 },
 "nbformat": 4,
 "nbformat_minor": 4
}
